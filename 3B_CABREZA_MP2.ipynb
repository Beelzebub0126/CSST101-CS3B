{
  "nbformat": 4,
  "nbformat_minor": 0,
  "metadata": {
    "colab": {
      "provenance": [],
      "authorship_tag": "ABX9TyP3C9KfZfyZM6V9FPy0er7m",
      "include_colab_link": true
    },
    "kernelspec": {
      "name": "python3",
      "display_name": "Python 3"
    },
    "language_info": {
      "name": "python"
    }
  },
  "cells": [
    {
      "cell_type": "markdown",
      "metadata": {
        "id": "view-in-github",
        "colab_type": "text"
      },
      "source": [
        "<a href=\"https://colab.research.google.com/github/Beelzebub0126/CSST101-CS3B/blob/main/3B_CABREZA_MP2.ipynb\" target=\"_parent\"><img src=\"https://colab.research.google.com/assets/colab-badge.svg\" alt=\"Open In Colab\"/></a>"
      ]
    },
    {
      "cell_type": "markdown",
      "source": [
        "# Logic-Based AI in Python\n",
        "**Introduction**\n",
        "\n",
        "This notebook shows how to use basic logic operations in Python. We will create logic functions, evaluate logical statements, extend logic to work with predicates (conditions for sets of values), and build a simple AI agent that makes decisions based on its environment."
      ],
      "metadata": {
        "id": "MDrFNHbNsa3E"
      }
    },
    {
      "cell_type": "markdown",
      "source": [
        "#Task 1: Propositional Logic Operations"
      ],
      "metadata": {
        "id": "X0TDcl2XzShI"
      }
    },
    {
      "cell_type": "code",
      "execution_count": 12,
      "metadata": {
        "colab": {
          "base_uri": "https://localhost:8080/"
        },
        "id": "KgGVTeFxq061",
        "outputId": "dff06706-3f5d-48a8-ad8a-519e6610e592"
      },
      "outputs": [
        {
          "output_type": "stream",
          "name": "stdout",
          "text": [
            "True True True False\n"
          ]
        }
      ],
      "source": [
        "# AND (∧): Logical conjunction\n",
        "# This function returns True if both a and b are True, otherwise False.\n",
        "def and_operation(p, q):\n",
        "    return p and q\n",
        "\n",
        "# OR (∨): Logical disjunction\n",
        "# This function returns True if either a or c is True, otherwise False.\n",
        "def or_operation(p, r):\n",
        "    return p or r\n",
        "\n",
        "# NOT (¬): Logical negation\n",
        "# This function returns True if c is False, and False if c is True.\n",
        "def not_operation(r):\n",
        "    return not r\n",
        "\n",
        "# IMPLIES (→): Logical implication\n",
        "# This function returns True unless a is True and c is False (i.e., a → c is equivalent to ¬a ∨ c).\n",
        "def implies_operation(p, r):\n",
        "    return not p or r\n",
        "\n",
        "# Testing the operations with sample values\n",
        "p, q, r = True, True, False\n",
        "and_result = and_operation(p, q)\n",
        "or_result = or_operation(p, r)\n",
        "not_result = not_operation(r)\n",
        "implies_result = implies_operation(p, r)\n",
        "\n",
        "# Print the results of logical operations\n",
        "print(and_result, or_result, not_result, implies_result)\n"
      ]
    },
    {
      "cell_type": "markdown",
      "source": [
        "**Explanation**: This code performs basic logical operations like AND, OR, NOT, and IMPLIES. We test these operations with some example values."
      ],
      "metadata": {
        "id": "oM7q42hWswx0"
      }
    },
    {
      "cell_type": "markdown",
      "source": [
        "#Task 2: Evaluate Logical Statements:\n"
      ],
      "metadata": {
        "id": "0kGm9wE9zWf4"
      }
    },
    {
      "cell_type": "code",
      "source": [
        "# This function evaluates a propositional logic statement given the truth values of the propositions.\n",
        "# Parameters:\n",
        "# - statement: A string representing the logical expression (e.g., \"p and q\").\n",
        "# - values: A dictionary where the keys are proposition names and the values are their truth values.\n",
        "def evaluate(statement, values):\n",
        "    return eval(statement, {}, values)\n",
        "\n",
        "# Example: Evaluating logical statements with predefined truth values\n",
        "values = {'p': True, 'q': False, 'r': True}\n",
        "\n",
        "# Define example statements to evaluate\n",
        "statement_1 = \"p and q\"      # Expected: False\n",
        "statement_2 = \"p or q\"       # Expected: True\n",
        "statement_3 = \"not r\"        # Expected: False\n",
        "statement_4 = \"p and (not q)\"  # Expected: True\n",
        "\n",
        "# Evaluate and print results\n",
        "eval_1 = evaluate(statement_1, values)\n",
        "eval_2 = evaluate(statement_2, values)\n",
        "eval_3 = evaluate(statement_3, values)\n",
        "eval_4 = evaluate(statement_4, values)\n",
        "\n",
        "print(eval_1, eval_2, eval_3, eval_4)\n"
      ],
      "metadata": {
        "colab": {
          "base_uri": "https://localhost:8080/"
        },
        "id": "0KLZXczAs9ys",
        "outputId": "f126503a-c708-4699-e949-7f132e7ca33a"
      },
      "execution_count": 8,
      "outputs": [
        {
          "output_type": "stream",
          "name": "stdout",
          "text": [
            "False True False True\n"
          ]
        }
      ]
    },
    {
      "cell_type": "markdown",
      "source": [
        "**Explanation**: This function checks if a logical statement is True or False based on the values of p, q, and r. We evaluate some example expressions."
      ],
      "metadata": {
        "id": "ZhKQvaSTuBBN"
      }
    },
    {
      "cell_type": "markdown",
      "source": [
        "#Task 3: Extend to Predicate Logic:"
      ],
      "metadata": {
        "id": "6JNMa6ysza4w"
      }
    },
    {
      "cell_type": "code",
      "source": [
        "# Universal Quantifier (FOR ALL ∀)\n",
        "# This function checks if a predicate is True for all elements in a given domain.\n",
        "# Parameters:\n",
        "# - predicate: A function that returns True or False for an element of the domain.\n",
        "# - domain: A list of elements to check.\n",
        "def forall(predicate, domain):\n",
        "    return all(predicate(x) for x in domain)\n",
        "\n",
        "# Existential Quantifier (EXISTS ∃)\n",
        "# This function checks if a predicate is True for at least one element in a given domain.\n",
        "# Parameters:\n",
        "# - predicate: A function that returns True or False for an element of the domain.\n",
        "# - domain: A list of elements to check.\n",
        "def exists(predicate, domain):\n",
        "    return any(predicate(x) for x in domain)\n",
        "\n",
        "# Example predicates and domains\n",
        "domain = [1, 2, 3, 4, 5]\n",
        "\n",
        "# Predicate to check if a number is even\n",
        "predicate_even = lambda x: x % 2 == 0\n",
        "# Predicate to check if a number is positive\n",
        "predicate_positive = lambda x: x > 0\n",
        "\n",
        "# Apply quantifiers to the domain\n",
        "forall_result = forall(predicate_even, domain)  # Expected: False (not all numbers are even)\n",
        "exists_result = exists(predicate_even, domain)  # Expected: True (there are even numbers)\n",
        "\n",
        "# Print the results of the quantifiers\n",
        "print(forall_result, exists_result)\n"
      ],
      "metadata": {
        "colab": {
          "base_uri": "https://localhost:8080/"
        },
        "id": "xSfnw2E1uBbN",
        "outputId": "426d2f8e-6106-455e-87c6-d06c099e0325"
      },
      "execution_count": 9,
      "outputs": [
        {
          "output_type": "stream",
          "name": "stdout",
          "text": [
            "False True\n"
          ]
        }
      ]
    },
    {
      "cell_type": "markdown",
      "source": [
        "**Explanation**: We use two logic functions to check if a condition (e.g., being an even number) applies to all values or just some values in a list.\n",
        "\n"
      ],
      "metadata": {
        "id": "PmMPtTdGuEDE"
      }
    },
    {
      "cell_type": "markdown",
      "source": [
        "#Task 4: AI Agent Development:"
      ],
      "metadata": {
        "id": "J9WsPAkOzdUA"
      }
    },
    {
      "cell_type": "code",
      "source": [
        "# This function defines the behavior of a simple AI agent that makes decisions based on the environment.\n",
        "# The agent will decide to \"proceed\" if the environment is safe and resources are available.\n",
        "# Parameters:\n",
        "# - environment: A dictionary containing environmental conditions like 'safe' and 'resources_available'.\n",
        "def ai_agent(environment):\n",
        "    return and_operation(environment['safe'], environment['resources_available'])\n",
        "\n",
        "# Define the environment's state for the AI agent\n",
        "environment = {\n",
        "    'safe': True,\n",
        "    'resources_available': False\n",
        "}\n",
        "\n",
        "# Make a decision based on the environment\n",
        "decision = ai_agent(environment)\n",
        "\n",
        "# Print the agent's decision\n",
        "print(\"Decision to proceed:\", decision)\n"
      ],
      "metadata": {
        "colab": {
          "base_uri": "https://localhost:8080/"
        },
        "id": "NkMysaJ0ucCV",
        "outputId": "9cdc157e-0804-4eec-bbc8-1193d25f43ef"
      },
      "execution_count": 10,
      "outputs": [
        {
          "output_type": "stream",
          "name": "stdout",
          "text": [
            "Decision to proceed: False\n"
          ]
        }
      ]
    },
    {
      "cell_type": "markdown",
      "source": [
        "**Explanation**: This is a simple AI agent that decides whether to proceed with an action based on two conditions: the environment is safe, and resources are available."
      ],
      "metadata": {
        "id": "JbddtuAbzfQ4"
      }
    },
    {
      "cell_type": "markdown",
      "source": [
        "#Testing Different Scenarios"
      ],
      "metadata": {
        "id": "SxBIJnL-1CAJ"
      }
    },
    {
      "cell_type": "code",
      "source": [
        "# Test the AI agent with different environments\n",
        "environment_1 = {'safe': True, 'resources_available': True}\n",
        "environment_2 = {'safe': True, 'resources_available': False}\n",
        "environment_3 = {'safe': False, 'resources_available': True}\n",
        "\n",
        "decision_1 = ai_agent(environment_1)  # Expected: True\n",
        "decision_2 = ai_agent(environment_2)  # Expected: False\n",
        "decision_3 = ai_agent(environment_3)  # Expected: False\n",
        "\n",
        "print(\"Decision with environment_1:\", decision_1)\n",
        "print(\"Decision with environment_2:\", decision_2)\n",
        "print(\"Decision with environment_3:\", decision_3)"
      ],
      "metadata": {
        "colab": {
          "base_uri": "https://localhost:8080/"
        },
        "id": "bMGxcYcH0_Qo",
        "outputId": "4501a6b7-3b29-414b-f9e7-0f85c49c274b"
      },
      "execution_count": 11,
      "outputs": [
        {
          "output_type": "stream",
          "name": "stdout",
          "text": [
            "Decision with environment_1: True\n",
            "Decision with environment_2: False\n",
            "Decision with environment_3: False\n"
          ]
        }
      ]
    }
  ]
}