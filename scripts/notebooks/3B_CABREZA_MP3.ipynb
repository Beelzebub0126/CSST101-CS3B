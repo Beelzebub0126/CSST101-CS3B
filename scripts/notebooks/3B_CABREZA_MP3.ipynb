{
  "nbformat": 4,
  "nbformat_minor": 0,
  "metadata": {
    "colab": {
      "provenance": []
    },
    "kernelspec": {
      "name": "python3",
      "display_name": "Python 3"
    },
    "language_info": {
      "name": "python"
    }
  },
  "cells": [
    {
      "cell_type": "markdown",
      "source": [
        "Machine Problem: Interactive Probability and Decision-Making in AI"
      ],
      "metadata": {
        "id": "SdSX9q6EZaKg"
      }
    },
    {
      "cell_type": "markdown",
      "source": [
        "Part 1: Implement Basic Probability Calculations"
      ],
      "metadata": {
        "id": "BGFjRgHvXRTB"
      }
    },
    {
      "cell_type": "code",
      "execution_count": 1,
      "metadata": {
        "id": "JZuisPX4kQr3",
        "colab": {
          "base_uri": "https://localhost:8080/"
        },
        "outputId": "53fdd4fd-82db-4fca-9f72-dc7f7708fa95"
      },
      "outputs": [
        {
          "output_type": "stream",
          "name": "stdout",
          "text": [
            "Enter probabilities for independent events A and B.\n",
            "Enter P(A): 0.3\n",
            "Enter P(B): 0.4\n",
            "\n",
            "Enter joint probabilities for P(A and B) and P(A and not B).\n",
            "Enter P(A and B): 0.8\n",
            "Enter P(A and not B): 0.8\n",
            "\n",
            "Calculated Joint Probability P(A and B): 0.12\n",
            "Calculated Marginal Probability P(A): 1.6\n",
            "Calculated Conditional Probability P(A|B): 2.0\n"
          ]
        }
      ],
      "source": [
        "def joint_probability(p_a, p_b):\n",
        "    return p_a * p_b\n",
        "\n",
        "def marginal_probability(p_joint_a_b, p_joint_a_not_b):\n",
        "    return p_joint_a_b + p_joint_a_not_b\n",
        "\n",
        "def conditional_probability(p_a_and_b, p_b):\n",
        "    if p_b == 0:\n",
        "        return \"Conditional probability undefined (P(B) cannot be zero)\"\n",
        "    return p_a_and_b / p_b\n",
        "\n",
        "def get_user_input():\n",
        "    print(\"Enter probabilities for independent events A and B.\")\n",
        "\n",
        "    p_a = float(input(\"Enter P(A): \"))\n",
        "    p_b = float(input(\"Enter P(B): \"))\n",
        "\n",
        "    print(\"\\nEnter joint probabilities for P(A and B) and P(A and not B).\")\n",
        "    p_a_and_b = float(input(\"Enter P(A and B): \"))\n",
        "    p_a_and_not_b = float(input(\"Enter P(A and not B): \"))\n",
        "\n",
        "    joint_prob = joint_probability(p_a, p_b)\n",
        "    marginal_prob = marginal_probability(p_a_and_b, p_a_and_not_b)\n",
        "    conditional_prob = conditional_probability(p_a_and_b, p_b)\n",
        "\n",
        "    print(f\"\\nCalculated Joint Probability P(A and B): {joint_prob}\")\n",
        "    print(f\"Calculated Marginal Probability P(A): {marginal_prob}\")\n",
        "    print(f\"Calculated Conditional Probability P(A|B): {conditional_prob}\")\n",
        "\n",
        "get_user_input()"
      ]
    },
    {
      "cell_type": "markdown",
      "source": [
        "Part 2: Bayesian Inference for Real-World Scenarios"
      ],
      "metadata": {
        "id": "Fjm7DJVOx9nt"
      }
    },
    {
      "cell_type": "code",
      "source": [
        "def bayesian_inference(prior, likelihood, evidence):\n",
        "    return (likelihood * prior) / evidence\n",
        "\n",
        "def get_user_input():\n",
        "    print(\"Bayesian Inference: Update probability based on a positive test result.\")\n",
        "\n",
        "    prior = float(input(\"Enter the prior probability of having the disease (P(Disease)): \"))\n",
        "    likelihood = float(input(\"Enter the likelihood of a positive test given the disease (P(Pos Test | Disease)): \"))\n",
        "    evidence = float(input(\"Enter the overall probability of a positive test (P(Pos Test)): \"))\n",
        "\n",
        "    posterior = bayesian_inference(prior, likelihood, evidence)\n",
        "\n",
        "    print(f\"\\nPosterior Probability of having the disease after a positive test result: {posterior}\")\n",
        "\n",
        "get_user_input()"
      ],
      "metadata": {
        "colab": {
          "base_uri": "https://localhost:8080/"
        },
        "id": "_6Hac0Smx-Q0",
        "outputId": "6740f90c-5731-46ef-9b24-5447484a5897"
      },
      "execution_count": 2,
      "outputs": [
        {
          "output_type": "stream",
          "name": "stdout",
          "text": [
            "Bayesian Inference: Update probability based on a positive test result.\n",
            "Enter the prior probability of having the disease (P(Disease)): 0.01\n",
            "Enter the likelihood of a positive test given the disease (P(Pos Test | Disease)): 0.9\n",
            "Enter the overall probability of a positive test (P(Pos Test)): 0.05\n",
            "\n",
            "Posterior Probability of having the disease after a positive test result: 0.18000000000000002\n"
          ]
        }
      ]
    },
    {
      "cell_type": "markdown",
      "source": [
        "Part 3: Simulate Decision-Making Under Uncertainty\n"
      ],
      "metadata": {
        "id": "h7EJ6Na-yFul"
      }
    },
    {
      "cell_type": "code",
      "source": [
        "import random\n",
        "\n",
        "def decision_simulation(prob_success, reward, penalty, trials):\n",
        "    total_return = 0\n",
        "    for _ in range(trials):\n",
        "        if random.random() < prob_success:\n",
        "            total_return += reward\n",
        "        else:\n",
        "            total_return -= penalty\n",
        "    return total_return / trials\n",
        "\n",
        "def get_user_input():\n",
        "    print(\"Decision-making simulation under uncertainty.\")\n",
        "\n",
        "    prob_success = float(input(\"Enter the probability of success (0 to 1): \"))\n",
        "    reward = float(input(\"Enter the reward amount for success: \"))\n",
        "    penalty = float(input(\"Enter the penalty for failure: \"))\n",
        "    trials = int(input(\"Enter the number of trials: \"))\n",
        "\n",
        "    average_return = decision_simulation(prob_success, reward, penalty, trials)\n",
        "\n",
        "    print(f\"\\nAverage return after {trials} trials: {average_return}\")\n",
        "\n",
        "get_user_input()\n"
      ],
      "metadata": {
        "colab": {
          "base_uri": "https://localhost:8080/"
        },
        "id": "1oN6gjaLyGbU",
        "outputId": "64228f82-cce4-4253-aec5-e1919e4eaa93"
      },
      "execution_count": 3,
      "outputs": [
        {
          "output_type": "stream",
          "name": "stdout",
          "text": [
            "Decision-making simulation under uncertainty.\n",
            "Enter the probability of success (0 to 1): 0.7\n",
            "Enter the reward amount for success: 1000\n",
            "Enter the penalty for failure: -500\n",
            "Enter the number of trials: 1000\n",
            "\n",
            "Average return after 1000 trials: 863.0\n"
          ]
        }
      ]
    },
    {
      "cell_type": "markdown",
      "source": [
        "Part 4: Visualize Probability Distributions"
      ],
      "metadata": {
        "id": "yqCMRmBWyVQr"
      }
    },
    {
      "cell_type": "code",
      "source": [
        "import numpy as np\n",
        "import matplotlib.pyplot as plt\n",
        "\n",
        "def binomial_distribution(trials, probability, simulations):\n",
        "    data = np.random.binomial(trials, probability, simulations)\n",
        "    plt.hist(data, bins=range(trials+2), edgecolor='black', alpha=0.7)\n",
        "    plt.title('Binomial Distribution (Coin Flips / Dice Rolls)')\n",
        "    plt.xlabel('Number of Successes')\n",
        "    plt.ylabel('Frequency')\n",
        "    plt.show()\n",
        "\n",
        "def normal_distribution(mean, std_dev, simulations):\n",
        "    data = np.random.normal(mean, std_dev, simulations)\n",
        "    plt.hist(data, bins=30, edgecolor='black', alpha=0.7)\n",
        "    plt.title('Normal Distribution (Exam Scores)')\n",
        "    plt.xlabel('Values')\n",
        "    plt.ylabel('Frequency')\n",
        "    plt.show()\n",
        "\n",
        "def get_user_input():\n",
        "    print(\"Choose a distribution to simulate:\")\n",
        "    print(\"1. Binomial Distribution (e.g., Coin Flips)\")\n",
        "    print(\"2. Normal Distribution (e.g., Exam Scores)\")\n",
        "\n",
        "    choice = int(input(\"Enter 1 or 2: \"))\n",
        "\n",
        "    if choice == 1:\n",
        "        trials = int(input(\"Enter number of trials (e.g., coin flips): \"))\n",
        "        probability = float(input(\"Enter probability of success (e.g., 0.5 for coin flip): \"))\n",
        "        simulations = int(input(\"Enter number of simulations: \"))\n",
        "        binomial_distribution(trials, probability, simulations)\n",
        "\n",
        "    elif choice == 2:\n",
        "        mean = float(input(\"Enter the mean (e.g., average exam score): \"))\n",
        "        std_dev = float(input(\"Enter the standard deviation: \"))\n",
        "        simulations = int(input(\"Enter number of simulations: \"))\n",
        "        normal_distribution(mean, std_dev, simulations)\n",
        "\n",
        "    else:\n",
        "        print(\"Invalid choice. Please enter 1 or 2.\")\n",
        "\n",
        "get_user_input()\n"
      ],
      "metadata": {
        "colab": {
          "base_uri": "https://localhost:8080/",
          "height": 594
        },
        "id": "xjihJMfAyV0r",
        "outputId": "870e829c-e6c6-4d9e-bc03-8f8e5e2c126e"
      },
      "execution_count": 4,
      "outputs": [
        {
          "name": "stdout",
          "output_type": "stream",
          "text": [
            "Choose a distribution to simulate:\n",
            "1. Binomial Distribution (e.g., Coin Flips)\n",
            "2. Normal Distribution (e.g., Exam Scores)\n",
            "Enter 1 or 2: 1\n",
            "Enter number of trials (e.g., coin flips): 1000\n",
            "Enter probability of success (e.g., 0.5 for coin flip): 0.5\n",
            "Enter number of simulations: 1000\n"
          ]
        },
        {
          "output_type": "display_data",
          "data": {
            "text/plain": [
              "<Figure size 640x480 with 1 Axes>"
            ],
            "image/png": "[encoded data removed]"
          },
          "metadata": {}
        }
      ]
    },
    {
      "cell_type": "markdown",
      "source": [
        "Part 5: Real-World Scenario Prediction"
      ],
      "metadata": {
        "id": "qLmtRfaSyXoj"
      }
    },
    {
      "cell_type": "code",
      "source": [
        "def predict_rain(humidity, cloud_cover):\n",
        "    prior_rain = 0.3\n",
        "    likelihood_humidity_given_rain = 0.8\n",
        "    likelihood_cloud_given_rain = 0.9\n",
        "    prior_no_rain = 1 - prior_rain\n",
        "    likelihood_humidity_given_no_rain = 0.4\n",
        "    likelihood_cloud_given_no_rain = 0.3\n",
        "    total_humidity = likelihood_humidity_given_rain * prior_rain + likelihood_humidity_given_no_rain * prior_no_rain\n",
        "    total_cloud_cover = likelihood_cloud_given_rain * prior_rain + likelihood_cloud_given_no_rain * prior_no_rain\n",
        "    posterior_rain = (likelihood_humidity_given_rain * likelihood_cloud_given_rain * prior_rain) / (total_humidity * total_cloud_cover)\n",
        "    return posterior_rain\n",
        "\n",
        "def get_user_input():\n",
        "    print(\"Rain Prediction based on Humidity and Cloud Cover.\")\n",
        "    humidity = float(input(\"Enter the humidity level (0 to 1): \"))\n",
        "    cloud_cover = float(input(\"Enter the cloud cover level (0 to 1): \"))\n",
        "    probability_rain = predict_rain(humidity, cloud_cover)\n",
        "    print(f\"\\nProbability of rain based on the input values: {probability_rain * 100:.2f}%\")\n",
        "\n",
        "    if probability_rain > 0.5:\n",
        "        print(\"It is likely to rain.\")\n",
        "    else:\n",
        "        print(\"It is unlikely to rain.\")\n",
        "\n",
        "get_user_input()\n"
      ],
      "metadata": {
        "colab": {
          "base_uri": "https://localhost:8080/"
        },
        "id": "E7mJ1JPMyYGL",
        "outputId": "6cf6503b-b5c6-4bf0-9745-c7c3cd84edf9"
      },
      "execution_count": 5,
      "outputs": [
        {
          "output_type": "stream",
          "name": "stdout",
          "text": [
            "Rain Prediction based on Humidity and Cloud Cover.\n",
            "Enter the humidity level (0 to 1): 0.8\n",
            "Enter the cloud cover level (0 to 1): 0.6\n",
            "\n",
            "Probability of rain based on the input values: 86.54%\n",
            "It is likely to rain.\n"
          ]
        }
      ]
    }
  ]
}