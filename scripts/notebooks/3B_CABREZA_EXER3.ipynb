{
  "nbformat": 4,
  "nbformat_minor": 0,
  "metadata": {
    "colab": {
      "provenance": []
    },
    "kernelspec": {
      "name": "python3",
      "display_name": "Python 3"
    },
    "language_info": {
      "name": "python"
    }
  },
  "cells": [
    {
      "cell_type": "markdown",
      "source": [
        "#Part: 1 Defining the Problem and System Design"
      ],
      "metadata": {
        "id": "LVwrxswvB3bw"
      }
    },
    {
      "cell_type": "markdown",
      "source": [
        "Disease: Heart Disease\n",
        "\n",
        "Contributing Factors: High Blood Pressure, High Cholesterol, Physical Inactivity, Unhealthy Diet,Excessive Alcohol Consumption"
      ],
      "metadata": {
        "id": "mUaitjfLB_zo"
      }
    },
    {
      "cell_type": "markdown",
      "source": [
        "#Part 2: Basic Probability Calculations"
      ],
      "metadata": {
        "id": "hLszTfyQCWoY"
      }
    },
    {
      "cell_type": "code",
      "source": [
        "P_Disease = 0.02\n",
        "P_Positive_Disease = 0.95\n",
        "P_Postive_No_Disease = 0.05\n",
        "P_Positive = 0.06\n",
        "\n",
        "Result = P_Positive_Disease * P_Disease / P_Positive\n",
        "\n",
        "print(f\"Posterior Probability: {Result}\")"
      ],
      "metadata": {
        "colab": {
          "base_uri": "https://localhost:8080/"
        },
        "id": "CY4SHAlNCeiY",
        "outputId": "eb284979-153f-45c2-b1d6-1b1bc9d6879d"
      },
      "execution_count": 12,
      "outputs": [
        {
          "output_type": "stream",
          "name": "stdout",
          "text": [
            "Posterior Probability: 0.31666666666666665\n"
          ]
        }
      ]
    },
    {
      "cell_type": "markdown",
      "source": [
        "#Part 3: Decision-Making Simulation"
      ],
      "metadata": {
        "id": "zj3z5SaeDUvY"
      }
    },
    {
      "cell_type": "code",
      "source": [
        "P_Success = 0.7\n",
        "Benefit = 100\n",
        "P_Failure = 0.3\n",
        "Loss = 50\n",
        "\n",
        "Result = P_Success * Benefit + P_Failure * Loss\n",
        "\n",
        "print(f\"Expected Improvement: {Result}\")"
      ],
      "metadata": {
        "colab": {
          "base_uri": "https://localhost:8080/"
        },
        "id": "qd_fDQJ5DclP",
        "outputId": "226e440a-9096-4f6b-a4a5-46105dcbc025"
      },
      "execution_count": 13,
      "outputs": [
        {
          "output_type": "stream",
          "name": "stdout",
          "text": [
            "Expected Improvement: 85.0\n"
          ]
        }
      ]
    },
    {
      "cell_type": "markdown",
      "source": [
        "#Part 4: Visualize a Probability Distribution"
      ],
      "metadata": {
        "id": "0UurvYi9EA4g"
      }
    },
    {
      "cell_type": "code",
      "source": [
        "import matplotlib.pyplot as plt\n",
        "import numpy as np\n",
        "from scipy.stats import binom\n",
        "\n",
        "n = 5\n",
        "p = 0.5\n",
        "\n",
        "k_values = np.arange(0, n + 1)\n",
        "\n",
        "probabilities = binom.pmf(k_values, n, p)\n",
        "\n",
        "plt.bar(k_values, probabilities, color='crimson')\n",
        "plt.xlabel('Number of Heads')\n",
        "plt.ylabel('Probability')\n",
        "plt.title('Probability Distribution of Getting Heads in 5 Coin Flips')\n",
        "plt.show()"
      ],
      "metadata": {
        "colab": {
          "base_uri": "https://localhost:8080/",
          "height": 472
        },
        "id": "Fh6SOq7JEImA",
        "outputId": "b191dee3-2bf1-4694-977c-c9f1d3c9f603"
      },
      "execution_count": 14,
      "outputs": [
        {
          "output_type": "display_data",
          "data": {
            "text/plain": [
              "<Figure size 640x480 with 1 Axes>"
            ],
            "image/png": "[encoded data removed]"
          },
          "metadata": {}
        }
      ]
    },
    {
      "cell_type": "markdown",
      "source": [
        "#Reflection"
      ],
      "metadata": {
        "id": "6lL-wUJgEtzo"
      }
    },
    {
      "cell_type": "markdown",
      "source": [
        "Understanding probability theory helps us, in making better decisions in medical diagnosis. It help us\n",
        "in making decisions easy and more accurate based on the given data, making the quality of healthcare better and safer. It can also help us determine what is the best course of action to do, based on the probability of the disease presented."
      ],
      "metadata": {
        "id": "OToxCfXWExs3"
      }
    }
  ]
}