{
  "nbformat": 4,
  "nbformat_minor": 0,
  "metadata": {
    "colab": {
      "provenance": []
    },
    "kernelspec": {
      "name": "python3",
      "display_name": "Python 3"
    },
    "language_info": {
      "name": "python"
    }
  },
  "cells": [
    {
      "cell_type": "markdown",
      "source": [
        "#Exercise 1: Setting Up the Environment"
      ],
      "metadata": {
        "id": "hF10BcdUOBWt"
      }
    },
    {
      "cell_type": "code",
      "source": [
        "!pip install pgmpy"
      ],
      "metadata": {
        "colab": {
          "base_uri": "https://localhost:8080/"
        },
        "id": "Hffu9B8pwU5D",
        "outputId": "16beae2f-81ee-464c-d0e7-1269b51258ae"
      },
      "execution_count": 1,
      "outputs": [
        {
          "output_type": "stream",
          "name": "stdout",
          "text": [
            "Collecting pgmpy\n",
            "  Downloading pgmpy-0.1.26-py3-none-any.whl.metadata (9.1 kB)\n",
            "Requirement already satisfied: networkx in /usr/local/lib/python3.10/dist-packages (from pgmpy) (3.3)\n",
            "Requirement already satisfied: numpy in /usr/local/lib/python3.10/dist-packages (from pgmpy) (1.26.4)\n",
            "Requirement already satisfied: scipy in /usr/local/lib/python3.10/dist-packages (from pgmpy) (1.13.1)\n",
            "Requirement already satisfied: scikit-learn in /usr/local/lib/python3.10/dist-packages (from pgmpy) (1.5.2)\n",
            "Requirement already satisfied: pandas in /usr/local/lib/python3.10/dist-packages (from pgmpy) (2.2.2)\n",
            "Requirement already satisfied: pyparsing in /usr/local/lib/python3.10/dist-packages (from pgmpy) (3.1.4)\n",
            "Requirement already satisfied: torch in /usr/local/lib/python3.10/dist-packages (from pgmpy) (2.4.1+cu121)\n",
            "Requirement already satisfied: statsmodels in /usr/local/lib/python3.10/dist-packages (from pgmpy) (0.14.3)\n",
            "Requirement already satisfied: tqdm in /usr/local/lib/python3.10/dist-packages (from pgmpy) (4.66.5)\n",
            "Requirement already satisfied: joblib in /usr/local/lib/python3.10/dist-packages (from pgmpy) (1.4.2)\n",
            "Requirement already satisfied: opt-einsum in /usr/local/lib/python3.10/dist-packages (from pgmpy) (3.4.0)\n",
            "Requirement already satisfied: xgboost in /usr/local/lib/python3.10/dist-packages (from pgmpy) (2.1.1)\n",
            "Requirement already satisfied: google-generativeai in /usr/local/lib/python3.10/dist-packages (from pgmpy) (0.7.2)\n",
            "Requirement already satisfied: google-ai-generativelanguage==0.6.6 in /usr/local/lib/python3.10/dist-packages (from google-generativeai->pgmpy) (0.6.6)\n",
            "Requirement already satisfied: google-api-core in /usr/local/lib/python3.10/dist-packages (from google-generativeai->pgmpy) (2.19.2)\n",
            "Requirement already satisfied: google-api-python-client in /usr/local/lib/python3.10/dist-packages (from google-generativeai->pgmpy) (2.137.0)\n",
            "Requirement already satisfied: google-auth>=2.15.0 in /usr/local/lib/python3.10/dist-packages (from google-generativeai->pgmpy) (2.27.0)\n",
            "Requirement already satisfied: protobuf in /usr/local/lib/python3.10/dist-packages (from google-generativeai->pgmpy) (3.20.3)\n",
            "Requirement already satisfied: pydantic in /usr/local/lib/python3.10/dist-packages (from google-generativeai->pgmpy) (2.9.2)\n",
            "Requirement already satisfied: typing-extensions in /usr/local/lib/python3.10/dist-packages (from google-generativeai->pgmpy) (4.12.2)\n",
            "Requirement already satisfied: proto-plus<2.0.0dev,>=1.22.3 in /usr/local/lib/python3.10/dist-packages (from google-ai-generativelanguage==0.6.6->google-generativeai->pgmpy) (1.24.0)\n",
            "Requirement already satisfied: python-dateutil>=2.8.2 in /usr/local/lib/python3.10/dist-packages (from pandas->pgmpy) (2.8.2)\n",
            "Requirement already satisfied: pytz>=2020.1 in /usr/local/lib/python3.10/dist-packages (from pandas->pgmpy) (2024.2)\n",
            "Requirement already satisfied: tzdata>=2022.7 in /usr/local/lib/python3.10/dist-packages (from pandas->pgmpy) (2024.2)\n",
            "Requirement already satisfied: threadpoolctl>=3.1.0 in /usr/local/lib/python3.10/dist-packages (from scikit-learn->pgmpy) (3.5.0)\n",
            "Requirement already satisfied: patsy>=0.5.6 in /usr/local/lib/python3.10/dist-packages (from statsmodels->pgmpy) (0.5.6)\n",
            "Requirement already satisfied: packaging>=21.3 in /usr/local/lib/python3.10/dist-packages (from statsmodels->pgmpy) (24.1)\n",
            "Requirement already satisfied: filelock in /usr/local/lib/python3.10/dist-packages (from torch->pgmpy) (3.16.1)\n",
            "Requirement already satisfied: sympy in /usr/local/lib/python3.10/dist-packages (from torch->pgmpy) (1.13.3)\n",
            "Requirement already satisfied: jinja2 in /usr/local/lib/python3.10/dist-packages (from torch->pgmpy) (3.1.4)\n",
            "Requirement already satisfied: fsspec in /usr/local/lib/python3.10/dist-packages (from torch->pgmpy) (2024.6.1)\n",
            "Requirement already satisfied: nvidia-nccl-cu12 in /usr/local/lib/python3.10/dist-packages (from xgboost->pgmpy) (2.23.4)\n",
            "Requirement already satisfied: googleapis-common-protos<2.0.dev0,>=1.56.2 in /usr/local/lib/python3.10/dist-packages (from google-api-core->google-generativeai->pgmpy) (1.65.0)\n",
            "Requirement already satisfied: requests<3.0.0.dev0,>=2.18.0 in /usr/local/lib/python3.10/dist-packages (from google-api-core->google-generativeai->pgmpy) (2.32.3)\n",
            "Requirement already satisfied: cachetools<6.0,>=2.0.0 in /usr/local/lib/python3.10/dist-packages (from google-auth>=2.15.0->google-generativeai->pgmpy) (5.5.0)\n",
            "Requirement already satisfied: pyasn1-modules>=0.2.1 in /usr/local/lib/python3.10/dist-packages (from google-auth>=2.15.0->google-generativeai->pgmpy) (0.4.1)\n",
            "Requirement already satisfied: rsa<5,>=3.1.4 in /usr/local/lib/python3.10/dist-packages (from google-auth>=2.15.0->google-generativeai->pgmpy) (4.9)\n",
            "Requirement already satisfied: six in /usr/local/lib/python3.10/dist-packages (from patsy>=0.5.6->statsmodels->pgmpy) (1.16.0)\n",
            "Requirement already satisfied: httplib2<1.dev0,>=0.19.0 in /usr/local/lib/python3.10/dist-packages (from google-api-python-client->google-generativeai->pgmpy) (0.22.0)\n",
            "Requirement already satisfied: google-auth-httplib2<1.0.0,>=0.2.0 in /usr/local/lib/python3.10/dist-packages (from google-api-python-client->google-generativeai->pgmpy) (0.2.0)\n",
            "Requirement already satisfied: uritemplate<5,>=3.0.1 in /usr/local/lib/python3.10/dist-packages (from google-api-python-client->google-generativeai->pgmpy) (4.1.1)\n",
            "Requirement already satisfied: MarkupSafe>=2.0 in /usr/local/lib/python3.10/dist-packages (from jinja2->torch->pgmpy) (2.1.5)\n",
            "Requirement already satisfied: annotated-types>=0.6.0 in /usr/local/lib/python3.10/dist-packages (from pydantic->google-generativeai->pgmpy) (0.7.0)\n",
            "Requirement already satisfied: pydantic-core==2.23.4 in /usr/local/lib/python3.10/dist-packages (from pydantic->google-generativeai->pgmpy) (2.23.4)\n",
            "Requirement already satisfied: mpmath<1.4,>=1.1.0 in /usr/local/lib/python3.10/dist-packages (from sympy->torch->pgmpy) (1.3.0)\n",
            "Requirement already satisfied: grpcio<2.0dev,>=1.33.2 in /usr/local/lib/python3.10/dist-packages (from google-api-core[grpc]!=2.0.*,!=2.1.*,!=2.10.*,!=2.2.*,!=2.3.*,!=2.4.*,!=2.5.*,!=2.6.*,!=2.7.*,!=2.8.*,!=2.9.*,<3.0.0dev,>=1.34.1->google-ai-generativelanguage==0.6.6->google-generativeai->pgmpy) (1.64.1)\n",
            "Requirement already satisfied: grpcio-status<2.0.dev0,>=1.33.2 in /usr/local/lib/python3.10/dist-packages (from google-api-core[grpc]!=2.0.*,!=2.1.*,!=2.10.*,!=2.2.*,!=2.3.*,!=2.4.*,!=2.5.*,!=2.6.*,!=2.7.*,!=2.8.*,!=2.9.*,<3.0.0dev,>=1.34.1->google-ai-generativelanguage==0.6.6->google-generativeai->pgmpy) (1.48.2)\n",
            "Requirement already satisfied: pyasn1<0.7.0,>=0.4.6 in /usr/local/lib/python3.10/dist-packages (from pyasn1-modules>=0.2.1->google-auth>=2.15.0->google-generativeai->pgmpy) (0.6.1)\n",
            "Requirement already satisfied: charset-normalizer<4,>=2 in /usr/local/lib/python3.10/dist-packages (from requests<3.0.0.dev0,>=2.18.0->google-api-core->google-generativeai->pgmpy) (3.3.2)\n",
            "Requirement already satisfied: idna<4,>=2.5 in /usr/local/lib/python3.10/dist-packages (from requests<3.0.0.dev0,>=2.18.0->google-api-core->google-generativeai->pgmpy) (3.10)\n",
            "Requirement already satisfied: urllib3<3,>=1.21.1 in /usr/local/lib/python3.10/dist-packages (from requests<3.0.0.dev0,>=2.18.0->google-api-core->google-generativeai->pgmpy) (2.2.3)\n",
            "Requirement already satisfied: certifi>=2017.4.17 in /usr/local/lib/python3.10/dist-packages (from requests<3.0.0.dev0,>=2.18.0->google-api-core->google-generativeai->pgmpy) (2024.8.30)\n",
            "Downloading pgmpy-0.1.26-py3-none-any.whl (2.0 MB)\n",
            "\u001b[2K   \u001b[90m━━━━━━━━━━━━━━━━━━━━━━━━━━━━━━━━━━━━━━━━\u001b[0m \u001b[32m2.0/2.0 MB\u001b[0m \u001b[31m11.8 MB/s\u001b[0m eta \u001b[36m0:00:00\u001b[0m\n",
            "\u001b[?25hInstalling collected packages: pgmpy\n",
            "Successfully installed pgmpy-0.1.26\n"
          ]
        }
      ]
    },
    {
      "cell_type": "markdown",
      "source": [
        "#Exercise 2: Define the Bayesian Network Structure\n"
      ],
      "metadata": {
        "id": "bmvR9V_ZOJT1"
      }
    },
    {
      "cell_type": "code",
      "source": [
        "import pandas as pd\n",
        "import numpy as np\n",
        "import networkx as nx\n",
        "import matplotlib.pyplot as plt\n",
        "from pgmpy.models import BayesianNetwork\n",
        "from pgmpy.factors.discrete import TabularCPD\n",
        "from pgmpy.inference import VariableElimination\n",
        "\n",
        "def define_network_structure():\n",
        "    model = BayesianNetwork([\n",
        "        ('Age', 'HeartDisease'),\n",
        "        ('Smoking', 'HeartDisease'),\n",
        "        ('Exercise', 'HeartDisease'),\n",
        "        ('Cholesterol', 'HeartDisease'),\n",
        "        ('BloodPressure', 'HeartDisease'),\n",
        "        ('HeartDisease', 'ChestPain'),\n",
        "        ('HeartDisease', 'ECGResult')\n",
        "    ])\n",
        "    return model"
      ],
      "metadata": {
        "id": "KFo3Khe2OYg9"
      },
      "execution_count": 2,
      "outputs": []
    },
    {
      "cell_type": "markdown",
      "source": [
        "#Exercise 3: Define Conditional Probability Tables (CPTs)"
      ],
      "metadata": {
        "id": "g0_J0mrWOPPF"
      }
    },
    {
      "cell_type": "code",
      "source": [
        "def define_cpts(model):\n",
        "    cpd_age = TabularCPD(variable='Age', variable_card=3, values=[[0.3], [0.5], [0.2]])\n",
        "    cpd_smoking = TabularCPD(variable='Smoking', variable_card=2, values=[[0.6], [0.4]])\n",
        "    cpd_exercise = TabularCPD(variable='Exercise', variable_card=2, values=[[0.7], [0.3]])\n",
        "    cpd_cholesterol = TabularCPD(variable='Cholesterol', variable_card=2, values=[[0.8], [0.2]])\n",
        "    cpd_bp = TabularCPD(variable='BloodPressure', variable_card=2, values=[[0.75], [0.25]])\n",
        "\n",
        "    cpd_hd = TabularCPD(\n",
        "        variable='HeartDisease', variable_card=2,\n",
        "        values=[\n",
        "            [0.9, 0.8, 0.7, 0.6, 0.5, 0.4, 0.3, 0.2, 0.1, 0.8, 0.7, 0.6, 0.5, 0.4, 0.3, 0.2,\n",
        "             0.9, 0.8, 0.7, 0.6, 0.5, 0.4, 0.3, 0.2, 0.1, 0.9, 0.8, 0.7, 0.6, 0.5, 0.4, 0.3,\n",
        "             0.7, 0.6, 0.5, 0.4, 0.3, 0.2, 0.1, 0.9, 0.8, 0.7, 0.6, 0.5, 0.4, 0.3, 0.2, 0.1],\n",
        "            [0.1, 0.2, 0.3, 0.4, 0.5, 0.6, 0.7, 0.8, 0.9, 0.2, 0.3, 0.4, 0.5, 0.6, 0.7, 0.8,\n",
        "             0.1, 0.2, 0.3, 0.4, 0.5, 0.6, 0.7, 0.8, 0.9, 0.1, 0.2, 0.3, 0.4, 0.5, 0.6, 0.7,\n",
        "             0.3, 0.4, 0.5, 0.6, 0.7, 0.8, 0.9, 0.1, 0.2, 0.3, 0.4, 0.5, 0.6, 0.7, 0.8, 0.9]],\n",
        "        evidence=['Age', 'Smoking', 'Exercise', 'Cholesterol', 'BloodPressure'],\n",
        "        evidence_card=[3, 2, 2, 2, 2]\n",
        "    )\n",
        "\n",
        "    cpd_cp = TabularCPD(\n",
        "        variable='ChestPain', variable_card=2,\n",
        "        values=[[0.7, 0.3], [0.3, 0.7]],\n",
        "        evidence=['HeartDisease'], evidence_card=[2]\n",
        "    )\n",
        "    cpd_ecg = TabularCPD(\n",
        "        variable='ECGResult', variable_card=2,\n",
        "        values=[[0.8, 0.2], [0.2, 0.8]],\n",
        "        evidence=['HeartDisease'], evidence_card=[2]\n",
        "    )\n",
        "\n",
        "    model.add_cpds(cpd_age, cpd_smoking, cpd_exercise, cpd_cholesterol, cpd_bp, cpd_hd, cpd_cp, cpd_ecg)\n",
        "    return model\n"
      ],
      "metadata": {
        "id": "1pIQs0wsOYHs"
      },
      "execution_count": 3,
      "outputs": []
    },
    {
      "cell_type": "markdown",
      "source": [
        "#Exercise 4: Inference in the Bayesian Network"
      ],
      "metadata": {
        "id": "KRMW0Qj_OSdl"
      }
    },
    {
      "cell_type": "code",
      "source": [
        "def perform_inference(model):\n",
        "    infer = VariableElimination(model)\n",
        "    query_hd = infer.query(variables=['HeartDisease'], evidence={'Age': 1, 'Smoking': 1, 'Cholesterol': 0, 'BloodPressure': 0})\n",
        "    query_ecg = infer.query(variables=['ECGResult'], evidence={'ChestPain': 1})\n",
        "    query_no_exercise = infer.query(variables=['HeartDisease'], evidence={'Exercise': 1})\n",
        "\n",
        "    return query_hd, query_ecg, query_no_exercise"
      ],
      "metadata": {
        "id": "3qF8huXPObM0"
      },
      "execution_count": 4,
      "outputs": []
    },
    {
      "cell_type": "markdown",
      "source": [
        "#Exercise 5: Parameter Learning from Simulated Data"
      ],
      "metadata": {
        "id": "FSPVg8L4Oc5E"
      }
    },
    {
      "cell_type": "code",
      "source": [
        "def simulate_data():\n",
        "    data = pd.DataFrame(np.random.randint(0, 2, size=(1000, 8)), columns=['Age', 'Smoking', 'Exercise', 'Cholesterol', 'BloodPressure', 'HeartDisease', 'ChestPain', 'ECGResult'])\n",
        "    return data\n",
        "\n",
        "def learn_parameters(model, data):\n",
        "    from pgmpy.estimators import MaximumLikelihoodEstimator\n",
        "    model.fit(data, estimator=MaximumLikelihoodEstimator)\n",
        "    return model"
      ],
      "metadata": {
        "id": "ybpDAa8wOfwU"
      },
      "execution_count": 6,
      "outputs": []
    },
    {
      "cell_type": "markdown",
      "source": [
        "#Exercise 6: Network Visualization and Analysis"
      ],
      "metadata": {
        "id": "UtYbMb4eOgx0"
      }
    },
    {
      "cell_type": "code",
      "source": [
        "def visualize_network(model):\n",
        "    G = nx.DiGraph()\n",
        "    G.add_edges_from(model.edges())\n",
        "    pos = nx.spring_layout(G)\n",
        "    nx.draw(G, pos, with_labels=True, node_size=2000, font_size=10, node_color='lightblue', font_weight='bold', arrows=True)\n",
        "    plt.show()\n",
        "\n",
        "def sensitivity_analysis(model, infer):\n",
        "    smoking_on_hd = infer.query(variables=['HeartDisease'], evidence={'Smoking': 1})\n",
        "    non_smoking_on_hd = infer.query(variables=['HeartDisease'], evidence={'Smoking': 0})\n",
        "\n",
        "    return smoking_on_hd, non_smoking_on_hd"
      ],
      "metadata": {
        "id": "jXFffT-2Oj5M"
      },
      "execution_count": 7,
      "outputs": []
    },
    {
      "cell_type": "markdown",
      "source": [
        "#Results"
      ],
      "metadata": {
        "id": "uUQMlLtx1uCI"
      }
    },
    {
      "cell_type": "code",
      "source": [
        "def main():\n",
        "    model = define_network_structure()\n",
        "    model = define_cpts(model)\n",
        "\n",
        "    query_hd, query_ecg, query_no_exercise = perform_inference(model)\n",
        "\n",
        "    print(\"Probability of Heart Disease (Middle-aged, Smoker, High Cholesterol, High BP):\")\n",
        "    print(query_hd)\n",
        "\n",
        "    print(\"\\nProbability of Abnormal ECG given Chest Pain:\")\n",
        "    print(query_ecg)\n",
        "\n",
        "    print(\"\\nProbability of Heart Disease in Non-Exercising Patients:\")\n",
        "    print(query_no_exercise)\n",
        "\n",
        "    data = simulate_data()\n",
        "    model = learn_parameters(model, data)\n",
        "\n",
        "    print(\"\\nModel parameters learned from simulated data:\")\n",
        "    for cpd in model.get_cpds():\n",
        "        print(cpd)\n",
        "\n",
        "    visualize_network(model)\n",
        "\n",
        "    infer = VariableElimination(model)\n",
        "    smoking_on_hd, non_smoking_on_hd = sensitivity_analysis(model, infer)\n",
        "\n",
        "    print(\"\\nProbability of Heart Disease (Smoker):\")\n",
        "    print(smoking_on_hd)\n",
        "\n",
        "    print(\"\\nProbability of Heart Disease (Non-Smoker):\")\n",
        "    print(non_smoking_on_hd)\n",
        "\n",
        "main()"
      ],
      "metadata": {
        "colab": {
          "base_uri": "https://localhost:8080/",
          "height": 1000
        },
        "id": "ZRV4VMZP1gE5",
        "outputId": "1965b706-a74d-4b4e-f4de-2e9827b353fc"
      },
      "execution_count": 8,
      "outputs": [
        {
          "output_type": "stream",
          "name": "stderr",
          "text": [
            "WARNING:pgmpy:Replacing existing CPD for Age\n",
            "WARNING:pgmpy:Replacing existing CPD for HeartDisease\n",
            "WARNING:pgmpy:Replacing existing CPD for Smoking\n",
            "WARNING:pgmpy:Replacing existing CPD for Exercise\n",
            "WARNING:pgmpy:Replacing existing CPD for Cholesterol\n",
            "WARNING:pgmpy:Replacing existing CPD for BloodPressure\n",
            "WARNING:pgmpy:Replacing existing CPD for ChestPain\n",
            "WARNING:pgmpy:Replacing existing CPD for ECGResult\n"
          ]
        },
        {
          "output_type": "stream",
          "name": "stdout",
          "text": [
            "Probability of Heart Disease (Middle-aged, Smoker, High Cholesterol, High BP):\n",
            "+-----------------+---------------------+\n",
            "| HeartDisease    |   phi(HeartDisease) |\n",
            "+=================+=====================+\n",
            "| HeartDisease(0) |              0.2500 |\n",
            "+-----------------+---------------------+\n",
            "| HeartDisease(1) |              0.7500 |\n",
            "+-----------------+---------------------+\n",
            "\n",
            "Probability of Abnormal ECG given Chest Pain:\n",
            "+--------------+------------------+\n",
            "| ECGResult    |   phi(ECGResult) |\n",
            "+==============+==================+\n",
            "| ECGResult(0) |           0.4281 |\n",
            "+--------------+------------------+\n",
            "| ECGResult(1) |           0.5719 |\n",
            "+--------------+------------------+\n",
            "\n",
            "Probability of Heart Disease in Non-Exercising Patients:\n",
            "+-----------------+---------------------+\n",
            "| HeartDisease    |   phi(HeartDisease) |\n",
            "+=================+=====================+\n",
            "| HeartDisease(0) |              0.4284 |\n",
            "+-----------------+---------------------+\n",
            "| HeartDisease(1) |              0.5716 |\n",
            "+-----------------+---------------------+\n",
            "\n",
            "Model parameters learned from simulated data:\n",
            "+--------+-------+\n",
            "| Age(0) | 0.516 |\n",
            "+--------+-------+\n",
            "| Age(1) | 0.484 |\n",
            "+--------+-------+\n",
            "+------------+-------+\n",
            "| Smoking(0) | 0.499 |\n",
            "+------------+-------+\n",
            "| Smoking(1) | 0.501 |\n",
            "+------------+-------+\n",
            "+-------------+-------+\n",
            "| Exercise(0) | 0.529 |\n",
            "+-------------+-------+\n",
            "| Exercise(1) | 0.471 |\n",
            "+-------------+-------+\n",
            "+----------------+-------+\n",
            "| Cholesterol(0) | 0.508 |\n",
            "+----------------+-------+\n",
            "| Cholesterol(1) | 0.492 |\n",
            "+----------------+-------+\n",
            "+------------------+-------+\n",
            "| BloodPressure(0) | 0.506 |\n",
            "+------------------+-------+\n",
            "| BloodPressure(1) | 0.494 |\n",
            "+------------------+-------+\n",
            "+-----------------+---------------------+-----+------------------+---------------------+\n",
            "| Age             | Age(0)              | ... | Age(1)           | Age(1)              |\n",
            "+-----------------+---------------------+-----+------------------+---------------------+\n",
            "| BloodPressure   | BloodPressure(0)    | ... | BloodPressure(1) | BloodPressure(1)    |\n",
            "+-----------------+---------------------+-----+------------------+---------------------+\n",
            "| Cholesterol     | Cholesterol(0)      | ... | Cholesterol(1)   | Cholesterol(1)      |\n",
            "+-----------------+---------------------+-----+------------------+---------------------+\n",
            "| Exercise        | Exercise(0)         | ... | Exercise(1)      | Exercise(1)         |\n",
            "+-----------------+---------------------+-----+------------------+---------------------+\n",
            "| Smoking         | Smoking(0)          | ... | Smoking(0)       | Smoking(1)          |\n",
            "+-----------------+---------------------+-----+------------------+---------------------+\n",
            "| HeartDisease(0) | 0.5714285714285714  | ... | 0.46875          | 0.42857142857142855 |\n",
            "+-----------------+---------------------+-----+------------------+---------------------+\n",
            "| HeartDisease(1) | 0.42857142857142855 | ... | 0.53125          | 0.5714285714285714  |\n",
            "+-----------------+---------------------+-----+------------------+---------------------+\n",
            "+--------------+--------------------+--------------------+\n",
            "| HeartDisease | HeartDisease(0)    | HeartDisease(1)    |\n",
            "+--------------+--------------------+--------------------+\n",
            "| ChestPain(0) | 0.4885057471264368 | 0.5125523012552301 |\n",
            "+--------------+--------------------+--------------------+\n",
            "| ChestPain(1) | 0.5114942528735632 | 0.4874476987447699 |\n",
            "+--------------+--------------------+--------------------+\n",
            "+--------------+---------------------+--------------------+\n",
            "| HeartDisease | HeartDisease(0)     | HeartDisease(1)    |\n",
            "+--------------+---------------------+--------------------+\n",
            "| ECGResult(0) | 0.49233716475095785 | 0.4895397489539749 |\n",
            "+--------------+---------------------+--------------------+\n",
            "| ECGResult(1) | 0.5076628352490421  | 0.5104602510460251 |\n",
            "+--------------+---------------------+--------------------+\n"
          ]
        },
        {
          "output_type": "display_data",
          "data": {
            "text/plain": [
              "<Figure size 640x480 with 1 Axes>"
            ],
            "image/png": "[encoded data removed]"
          },
          "metadata": {}
        },
        {
          "output_type": "stream",
          "name": "stdout",
          "text": [
            "\n",
            "Probability of Heart Disease (Smoker):\n",
            "+-----------------+---------------------+\n",
            "| HeartDisease    |   phi(HeartDisease) |\n",
            "+=================+=====================+\n",
            "| HeartDisease(0) |              0.5318 |\n",
            "+-----------------+---------------------+\n",
            "| HeartDisease(1) |              0.4682 |\n",
            "+-----------------+---------------------+\n",
            "\n",
            "Probability of Heart Disease (Non-Smoker):\n",
            "+-----------------+---------------------+\n",
            "| HeartDisease    |   phi(HeartDisease) |\n",
            "+=================+=====================+\n",
            "| HeartDisease(0) |              0.5151 |\n",
            "+-----------------+---------------------+\n",
            "| HeartDisease(1) |              0.4849 |\n",
            "+-----------------+---------------------+\n"
          ]
        }
      ]
    }
  ]
}